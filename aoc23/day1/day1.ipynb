{
 "cells": [
  {
   "cell_type": "code",
   "execution_count": 19,
   "metadata": {},
   "outputs": [
    {
     "name": "stdout",
     "output_type": "stream",
     "text": [
      "file exists 🤩\n"
     ]
    }
   ],
   "source": [
    "try \n",
    "    open(\"input1.txt\", \"r\") do s\n",
    "        # perform desired operations if file exists\n",
    "        println(\"file exists 🤩\")\n",
    "    end\n",
    "catch\n",
    "    # either warn or print that the file doesn't exist\n",
    "    println(\"file doesn't exist\")\n",
    "end\n"
   ]
  },
  {
   "cell_type": "code",
   "execution_count": null,
   "metadata": {},
   "outputs": [],
   "source": []
  }
 ],
 "metadata": {
  "kernelspec": {
   "display_name": "Julia 1.10.4",
   "language": "julia",
   "name": "julia-1.10"
  },
  "language_info": {
   "file_extension": ".jl",
   "mimetype": "application/julia",
   "name": "julia",
   "version": "1.10.4"
  }
 },
 "nbformat": 4,
 "nbformat_minor": 2
}
