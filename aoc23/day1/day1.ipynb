{
 "cells": [
  {
   "cell_type": "code",
   "execution_count": null,
   "metadata": {},
   "outputs": [
    {
     "data": {
      "text/plain": [
       "partone (generic function with 1 method)"
      ]
     },
     "execution_count": 15,
     "metadata": {},
     "output_type": "execute_result"
    }
   ],
   "source": [
    "function partone(path)\n",
    "\n",
    "    linechars = String[]\n",
    "    line = 1\n",
    "\n",
    "    for linestring in readlines(path)\n",
    "        temp_list = Char[]  # Initialize temp_list once per line\n",
    "\n",
    "        for char_index in 1:length(linestring)\n",
    "            if isdigit(linestring[char_index]) == true\n",
    "                push!(temp_list, linestring[char_index])\n",
    "            end\n",
    "        end\n",
    "\n",
    "        # Convert temp_list to a String and push it to linechars\n",
    "        push!(linechars, String(temp_list[1] * temp_list[end]))\n",
    "\n",
    "        # Move to the next line\n",
    "        line += 1\n",
    "\n",
    "    end\n",
    "\n",
    "    # convert entries of linechars to Int then sum the entries\n",
    "    return sum(parse.(Int, linechars))\n",
    "end\n"
   ]
  },
  {
   "cell_type": "code",
   "execution_count": null,
   "metadata": {},
   "outputs": [
    {
     "data": {
      "text/plain": [
       "parttwo (generic function with 1 method)"
      ]
     },
     "execution_count": 19,
     "metadata": {},
     "output_type": "execute_result"
    }
   ],
   "source": [
    "function parttwo()\n",
    "    # Create a dictionary/hashmap storing strings for each number\n",
    "    d = Dict{String, Int64}(\n",
    "        \"one\" => 1, \"two\" => 2, \"three\" => 3, \"four\" => 4, \"five\" => 5,\n",
    "        \"six\" => 6, \"seven\" => 7, \"eight\" => 8, \"nine\" => 9\n",
    "    )\n",
    "\n",
    "\n",
    "    return\n",
    "end\n"
   ]
  },
  {
   "cell_type": "code",
   "execution_count": 17,
   "metadata": {},
   "outputs": [
    {
     "data": {
      "text/plain": [
       "main (generic function with 1 method)"
      ]
     },
     "execution_count": 17,
     "metadata": {},
     "output_type": "execute_result"
    }
   ],
   "source": [
    "function main()\n",
    "    # First check if the file exists for this given input path\n",
    "    input_path = \"input1.txt\"\n",
    "\n",
    "    return try\n",
    "        open(input_path, \"r\") do s\n",
    "            # begin program if file exists\n",
    "            sum_p1 = partone(input_path)\n",
    "            # sum_p2 = partwo(input_path)\n",
    "        end\n",
    "    catch\n",
    "        # print that the file doesn't exist\n",
    "        println(\"file doesn't exist\")\n",
    "    end\n",
    "end\n"
   ]
  },
  {
   "cell_type": "code",
   "execution_count": 18,
   "metadata": {},
   "outputs": [
    {
     "data": {
      "text/plain": [
       "55108"
      ]
     },
     "execution_count": 18,
     "metadata": {},
     "output_type": "execute_result"
    }
   ],
   "source": [
    "main()\n"
   ]
  }
 ],
 "metadata": {
  "kernelspec": {
   "display_name": "Julia 1.11.1",
   "language": "julia",
   "name": "julia-1.11"
  },
  "language_info": {
   "file_extension": ".jl",
   "mimetype": "application/julia",
   "name": "julia",
   "version": "1.11.1"
  }
 },
 "nbformat": 4,
 "nbformat_minor": 2
}
